{
 "cells": [
  {
   "cell_type": "code",
   "execution_count": 1,
   "metadata": {},
   "outputs": [],
   "source": [
    "import data_preprocessing as dp\n",
    "import neural_network_library as nnl\n",
    "import numpy as np\n",
    "import matplotlib.pyplot as plt\n",
    "\n",
    "# set the random seed\n",
    "np.random.seed(42)"
   ]
  },
  {
   "cell_type": "code",
   "execution_count": 2,
   "metadata": {},
   "outputs": [],
   "source": [
    "X_train, X_val, y_train, y_val, X_test, y_test = dp.preprocess_data()"
   ]
  },
  {
   "cell_type": "code",
   "execution_count": null,
   "metadata": {},
   "outputs": [],
   "source": [
    "# Model configuration\n",
    "model = nnl.Sequential([\n",
    "    nnl.Linear(11, 64),\n",
    "    nnl.ReLU(),\n",
    "    nnl.Linear(64, 64),\n",
    "    nnl.ReLU(),\n",
    "    nnl.Linear(64, 64),\n",
    "    nnl.ReLU(),\n",
    "    nnl.Linear(64, 1)\n",
    "])\n",
    "loss = nnl.MseLoss()\n",
    "\n",
    "# Training parameters\n",
    "learning_rate = 0.001\n",
    "batch_size = 256\n",
    "n_epochs = 200\n",
    "patience = 3\n",
    "best_val_loss = np.inf\n",
    "patience_counter = 0\n",
    "train_losses, val_losses = [], []\n",
    "\n",
    "# Training loop with early stopping\n",
    "for epoch in range(n_epochs):\n",
    "    # Shuffle training data\n",
    "    shuffled_idx = np.random.permutation(X_train.shape[0])\n",
    "    X_shuffled = X_train[shuffled_idx]\n",
    "    y_shuffled = y_train[shuffled_idx]\n",
    "\n",
    "    epoch_losses = []\n",
    "\n",
    "    # loop through data in batches\n",
    "    for step in range(0, X_shuffled.shape[0], batch_size):\n",
    "        end_idx = step + batch_size\n",
    "        X_batch = X_shuffled[step:end_idx]\n",
    "        y_batch = y_shuffled[step:end_idx]\n",
    "        \n",
    "        # Forward pass\n",
    "        y_pred = model.forward(X_batch)\n",
    "        batch_loss = loss.forward(y_pred, y_batch)\n",
    "        epoch_losses.append(batch_loss)\n",
    "        \n",
    "        # Backward pass\n",
    "        grad = loss.backward()\n",
    "        model.backward(grad)\n",
    "        \n",
    "        # Update weights\n",
    "        for layer in model.layers:\n",
    "            if isinstance(layer, nnl.Linear):\n",
    "                layer.weights -= learning_rate * layer.grad_weights\n",
    "                layer.bias -= learning_rate * layer.grad_bias\n",
    "    \n",
    "    # avg training loss for epoch\n",
    "    avg_train_loss = np.mean(epoch_losses)\n",
    "    train_losses.append(avg_train_loss)\n",
    "    \n",
    "    val_pred = model.forward(X_val)\n",
    "    val_loss = loss.forward(val_pred, y_val)\n",
    "    val_losses.append(val_loss)\n",
    "\n",
    "    print(f\"Epoch {epoch+1}/{n_epochs} | Train Loss: {avg_train_loss:.4f} | Val Loss: {val_loss:.4f} | Patience: {patience_counter}/{patience}\")\n",
    "\n",
    "    # Early stopping check\n",
    "    if round(val_loss, 4) <= round(best_val_loss, 4):\n",
    "        best_val_loss = val_loss\n",
    "        patience_counter = 0\n",
    "    else:\n",
    "        patience_counter += 1\n",
    "        if patience_counter >= patience:\n",
    "            print(f\"Early stopping at epoch {epoch+1}\")\n",
    "            break   "
   ]
  },
  {
   "cell_type": "code",
   "execution_count": null,
   "metadata": {},
   "outputs": [],
   "source": [
    "# Final evaluation\n",
    "test_pred = model.forward(X_test).flatten() #np.expm1(model.forward(X_test).flatten())\n",
    "rmse = np.sqrt(np.mean((y_test - test_pred)**2))\n",
    "mae = np.mean(np.abs(y_test - test_pred))\n",
    "rmsle = np.sqrt(np.mean((np.log1p(y_test) - np.log1p(test_pred))**2))\n",
    "print(f\"\\nTest RMSLE: {rmsle:.4f}\")\n",
    "print(f\"\\nTest RMSE: {rmse:.2f}\")\n",
    "print(f\"Test MAE: {mae:.2f}\")\n",
    "\n",
    "# Plot training history\n",
    "plt.figure(figsize=(10, 6))\n",
    "plt.plot(train_losses, label='Train Loss')\n",
    "plt.plot(val_losses, label='Validation Loss')\n",
    "plt.xlabel('Epoch')\n",
    "plt.ylabel('MSE Loss')\n",
    "plt.title('Training History')\n",
    "plt.legend()\n",
    "plt.show()"
   ]
  },
  {
   "cell_type": "code",
   "execution_count": 14,
   "metadata": {},
   "outputs": [],
   "source": [
    "test_pred = np.expm1(model.forward(X_test).flatten())"
   ]
  },
  {
   "cell_type": "code",
   "execution_count": null,
   "metadata": {},
   "outputs": [],
   "source": [
    "test_pred"
   ]
  },
  {
   "cell_type": "code",
   "execution_count": null,
   "metadata": {},
   "outputs": [],
   "source": [
    "rmsle = np.sqrt(np.mean((np.log1p(y_test) - np.log1p(test_pred))**2))\n",
    "print(f\"\\nTest RMSLE: {rmsle:.4f}\")"
   ]
  },
  {
   "cell_type": "code",
   "execution_count": null,
   "metadata": {},
   "outputs": [],
   "source": []
  }
 ],
 "metadata": {
  "kernelspec": {
   "display_name": "ml-environment",
   "language": "python",
   "name": "python3"
  },
  "language_info": {
   "codemirror_mode": {
    "name": "ipython",
    "version": 3
   },
   "file_extension": ".py",
   "mimetype": "text/x-python",
   "name": "python",
   "nbconvert_exporter": "python",
   "pygments_lexer": "ipython3",
   "version": "3.12.8"
  }
 },
 "nbformat": 4,
 "nbformat_minor": 2
}
