{
 "cells": [
  {
   "cell_type": "code",
   "execution_count": 7,
   "metadata": {},
   "outputs": [],
   "source": [
    "import data_preprocessing as dp\n",
    "import neural_network_library as nnl\n",
    "import numpy as np\n",
    "import matplotlib.pyplot as plt\n",
    "\n",
    "# set the random seed\n",
    "np.random.seed(42)"
   ]
  },
  {
   "cell_type": "markdown",
   "metadata": {},
   "source": [
    "# Loading Data after preprocessing"
   ]
  },
  {
   "cell_type": "code",
   "execution_count": 8,
   "metadata": {},
   "outputs": [],
   "source": [
    "X_train, X_val, y_train, y_val, X_test, y_test = dp.preprocess_data()"
   ]
  },
  {
   "cell_type": "markdown",
   "metadata": {},
   "source": [
    "# Training Model 2 "
   ]
  },
  {
   "cell_type": "code",
   "execution_count": 9,
   "metadata": {},
   "outputs": [
    {
     "name": "stdout",
     "output_type": "stream",
     "text": [
      "Epoch 1 | Train: 1.5421 | Val: 0.3361 | Patience: 0/3\n",
      "Epoch 2 | Train: 0.2659 | Val: 0.2575 | Patience: 0/3\n",
      "Epoch 3 | Train: 0.2415 | Val: 0.2442 | Patience: 0/3\n",
      "Epoch 4 | Train: 0.2335 | Val: 0.2381 | Patience: 0/3\n",
      "Epoch 5 | Train: 0.2284 | Val: 0.2338 | Patience: 0/3\n",
      "Epoch 6 | Train: 0.2248 | Val: 0.2309 | Patience: 0/3\n",
      "Epoch 7 | Train: 0.2230 | Val: 0.2290 | Patience: 0/3\n",
      "Epoch 8 | Train: 0.2213 | Val: 0.2270 | Patience: 0/3\n",
      "Epoch 9 | Train: 0.2199 | Val: 0.2257 | Patience: 0/3\n",
      "Epoch 10 | Train: 0.2189 | Val: 0.2249 | Patience: 0/3\n",
      "Epoch 11 | Train: 0.2181 | Val: 0.2234 | Patience: 0/3\n",
      "Epoch 12 | Train: 0.2175 | Val: 0.2229 | Patience: 0/3\n",
      "Epoch 13 | Train: 0.2170 | Val: 0.2227 | Patience: 0/3\n",
      "Epoch 14 | Train: 0.2165 | Val: 0.2217 | Patience: 0/3\n",
      "Epoch 15 | Train: 0.2162 | Val: 0.2218 | Patience: 1/3\n",
      "Epoch 16 | Train: 0.2158 | Val: 0.2211 | Patience: 0/3\n",
      "Epoch 17 | Train: 0.2155 | Val: 0.2208 | Patience: 0/3\n",
      "Epoch 18 | Train: 0.2152 | Val: 0.2205 | Patience: 0/3\n",
      "Epoch 19 | Train: 0.2149 | Val: 0.2204 | Patience: 0/3\n",
      "Epoch 20 | Train: 0.2147 | Val: 0.2201 | Patience: 0/3\n",
      "Epoch 21 | Train: 0.2145 | Val: 0.2195 | Patience: 0/3\n",
      "Epoch 22 | Train: 0.2142 | Val: 0.2194 | Patience: 0/3\n",
      "Epoch 23 | Train: 0.2141 | Val: 0.2192 | Patience: 0/3\n",
      "Epoch 24 | Train: 0.2139 | Val: 0.2190 | Patience: 0/3\n",
      "Epoch 25 | Train: 0.2139 | Val: 0.2191 | Patience: 1/3\n",
      "Epoch 26 | Train: 0.2136 | Val: 0.2189 | Patience: 0/3\n",
      "Epoch 27 | Train: 0.2135 | Val: 0.2187 | Patience: 0/3\n",
      "Epoch 28 | Train: 0.2134 | Val: 0.2185 | Patience: 0/3\n",
      "Epoch 29 | Train: 0.2133 | Val: 0.2187 | Patience: 1/3\n",
      "Epoch 30 | Train: 0.2131 | Val: 0.2184 | Patience: 0/3\n",
      "Epoch 31 | Train: 0.2130 | Val: 0.2185 | Patience: 1/3\n",
      "Epoch 32 | Train: 0.2129 | Val: 0.2183 | Patience: 0/3\n",
      "Epoch 33 | Train: 0.2128 | Val: 0.2178 | Patience: 0/3\n",
      "Epoch 34 | Train: 0.2127 | Val: 0.2180 | Patience: 1/3\n",
      "Epoch 35 | Train: 0.2126 | Val: 0.2178 | Patience: 0/3\n",
      "Epoch 36 | Train: 0.2125 | Val: 0.2176 | Patience: 0/3\n",
      "Epoch 37 | Train: 0.2124 | Val: 0.2176 | Patience: 0/3\n",
      "Epoch 38 | Train: 0.2124 | Val: 0.2176 | Patience: 1/3\n",
      "Epoch 39 | Train: 0.2123 | Val: 0.2173 | Patience: 0/3\n",
      "Epoch 40 | Train: 0.2122 | Val: 0.2172 | Patience: 0/3\n",
      "Epoch 41 | Train: 0.2121 | Val: 0.2170 | Patience: 0/3\n",
      "Epoch 42 | Train: 0.2120 | Val: 0.2170 | Patience: 1/3\n",
      "Epoch 43 | Train: 0.2119 | Val: 0.2169 | Patience: 0/3\n",
      "Epoch 44 | Train: 0.2119 | Val: 0.2170 | Patience: 1/3\n",
      "Epoch 45 | Train: 0.2118 | Val: 0.2168 | Patience: 0/3\n",
      "Epoch 46 | Train: 0.2117 | Val: 0.2164 | Patience: 0/3\n",
      "Epoch 47 | Train: 0.2117 | Val: 0.2165 | Patience: 1/3\n",
      "Epoch 48 | Train: 0.2116 | Val: 0.2165 | Patience: 2/3\n",
      "Early stopping at epoch 48\n"
     ]
    }
   ],
   "source": [
    "# Model configuration\n",
    "model = nnl.Sequential([\n",
    "    nnl.Linear(11, 128),\n",
    "    nnl.ReLU(),\n",
    "    nnl.Linear(128, 64),\n",
    "    nnl.ReLU(),\n",
    "    nnl.Linear(64, 32),\n",
    "    nnl.ReLU(),\n",
    "    nnl.Linear(32, 1)\n",
    "])\n",
    "loss = nnl.MseLoss()\n",
    "\n",
    "# Training parameters\n",
    "learning_rate = 0.0005 # learning rate needs to be very low to prevent exploding gradients\n",
    "batch_size = 128\n",
    "n_epochs = 200\n",
    "patience = 3\n",
    "best_val_loss = np.inf\n",
    "patience_counter = 0\n",
    "train_losses, val_losses = [], []\n",
    "best_model_weights = None\n",
    "\n",
    "# Training loop with early stopping\n",
    "for epoch in range(n_epochs):\n",
    "    # Shuffle training data\n",
    "    shuffled_idx = np.random.permutation(X_train.shape[0])\n",
    "    X_shuffled = X_train[shuffled_idx]\n",
    "    y_shuffled = y_train[shuffled_idx]\n",
    "    epoch_losses = []\n",
    "\n",
    "    # loop through data in batches\n",
    "    for step in range(0, X_shuffled.shape[0], batch_size):\n",
    "        end_idx = step + batch_size\n",
    "        X_batch = X_shuffled[step:end_idx]\n",
    "        y_batch = y_shuffled[step:end_idx]\n",
    "        \n",
    "        # Forward pass\n",
    "        y_pred = model.forward(X_batch)\n",
    "        batch_loss = loss.forward(y_pred, y_batch)\n",
    "\n",
    "        # Backward pass\n",
    "        grad = loss.backward()\n",
    "        model.backward(grad)\n",
    "        \n",
    "        # Update weights\n",
    "        for layer in model.layers:\n",
    "            if isinstance(layer, nnl.Linear):\n",
    "                layer.weights -= learning_rate * layer.grad_weights\n",
    "                layer.bias -= learning_rate * layer.grad_bias\n",
    "\n",
    "        epoch_losses.append(batch_loss)\n",
    "    \n",
    "    # Validation\n",
    "    val_pred = model.forward(X_val)\n",
    "    val_loss = loss.forward(val_pred, y_val)\n",
    "    val_losses.append(val_loss)\n",
    "\n",
    "    # Early stopping check added rounding since the loss is not always decreasing \n",
    "    # and doesn't change loss very much during testing stops training must faster\n",
    "    # if not training takes a long time around 60ish epochs for roughly the same result\n",
    "    if val_loss < best_val_loss: #round(val_loss, 3) < round(best_val_loss, 3):\n",
    "        best_val_loss = val_loss\n",
    "        patience_counter = 0\n",
    "        model.save(r'Models\\model2.npz')\n",
    "    else:\n",
    "        patience_counter += 1\n",
    "\n",
    "    avg_train_loss = np.mean(epoch_losses)\n",
    "    train_losses.append(avg_train_loss)\n",
    "    val_losses.append(val_loss)  \n",
    "\n",
    "    if patience_counter >= patience:\n",
    "        print(f'Early stopping at epoch {epoch}')\n",
    "        break\n",
    "    \n",
    "    print(f\"Epoch {epoch+1} | Train: {avg_train_loss:.4f} | Val: {val_loss:.4f} | Patience: {patience_counter}/{patience}\")\n",
    "\n"
   ]
  },
  {
   "cell_type": "code",
   "execution_count": 10,
   "metadata": {},
   "outputs": [
    {
     "name": "stdout",
     "output_type": "stream",
     "text": [
      "\n",
      "Test RMSLE: 0.4654\n"
     ]
    }
   ],
   "source": [
    "# Test the model after training\n",
    "test_pred = np.expm1(model.forward(X_test).flatten())\n",
    "rmsle = np.sqrt(np.mean((np.log1p(y_test) - np.log1p(test_pred))**2))\n",
    "print(f\"\\nTest RMSLE: {rmsle:.4f}\")"
   ]
  },
  {
   "cell_type": "code",
   "execution_count": 11,
   "metadata": {},
   "outputs": [
    {
     "data": {
      "image/png": "[encoded data removed]",
      "text/plain": [
       "<Figure size 1000x600 with 1 Axes>"
      ]
     },
     "metadata": {},
     "output_type": "display_data"
    }
   ],
   "source": [
    "# Plot training history\n",
    "plt.figure(figsize=(10, 6))\n",
    "plt.plot(train_losses, label='Train Loss')\n",
    "plt.plot(val_losses, label='Validation Loss')\n",
    "plt.xlabel('Epoch')\n",
    "plt.ylabel('MSE Loss')\n",
    "plt.title('Training Curve')\n",
    "plt.legend()\n",
    "plt.savefig(r'Plots\\model2_training_curve.png')\n",
    "plt.show()"
   ]
  },
  {
   "cell_type": "markdown",
   "metadata": {},
   "source": [
    "# Load Model 2 Weights"
   ]
  },
  {
   "cell_type": "code",
   "execution_count": 13,
   "metadata": {},
   "outputs": [
    {
     "name": "stdout",
     "output_type": "stream",
     "text": [
      "Weights loaded from Models\\model2.npz\n",
      "\n",
      "Test RMSLE: 0.4656\n"
     ]
    }
   ],
   "source": [
    "# load model 2 for quick testing\n",
    "model2 = nnl.Sequential([\n",
    "    nnl.Linear(11, 128),\n",
    "    nnl.ReLU(),\n",
    "    nnl.Linear(128, 64),\n",
    "    nnl.ReLU(),\n",
    "    nnl.Linear(64, 32),\n",
    "    nnl.ReLU(),\n",
    "    nnl.Linear(32, 1)\n",
    "])\n",
    "\n",
    "model2.load(r'Models\\model2.npz')\n",
    "\n",
    "test_pred = np.expm1(model2.forward(X_test).flatten())\n",
    "rmsle = np.sqrt(np.mean((np.log1p(y_test) - np.log1p(test_pred))**2))\n",
    "print(f\"\\nTest RMSLE: {rmsle:.4f}\")"
   ]
  },
  {
   "cell_type": "code",
   "execution_count": null,
   "metadata": {},
   "outputs": [],
   "source": []
  }
 ],
 "metadata": {
  "kernelspec": {
   "display_name": "ml-environment",
   "language": "python",
   "name": "python3"
  },
  "language_info": {
   "codemirror_mode": {
    "name": "ipython",
    "version": 3
   },
   "file_extension": ".py",
   "mimetype": "text/x-python",
   "name": "python",
   "nbconvert_exporter": "python",
   "pygments_lexer": "ipython3",
   "version": "3.12.8"
  }
 },
 "nbformat": 4,
 "nbformat_minor": 2
}
