{
 "cells": [
  {
   "cell_type": "code",
   "execution_count": 1,
   "metadata": {},
   "outputs": [],
   "source": [
    "import data_preprocessing as dp\n",
    "import neural_network_library as nnl\n",
    "import numpy as np\n",
    "import matplotlib.pyplot as plt\n",
    "\n",
    "# set the random seed\n",
    "np.random.seed(42)"
   ]
  },
  {
   "cell_type": "markdown",
   "metadata": {},
   "source": [
    "# Loading Data after preprocessing"
   ]
  },
  {
   "cell_type": "code",
   "execution_count": 2,
   "metadata": {},
   "outputs": [],
   "source": [
    "X_train, X_val, y_train, y_val, X_test, y_test = dp.preprocess_data()"
   ]
  },
  {
   "cell_type": "markdown",
   "metadata": {},
   "source": [
    "# Training Model 1 "
   ]
  },
  {
   "cell_type": "code",
   "execution_count": 3,
   "metadata": {},
   "outputs": [
    {
     "name": "stdout",
     "output_type": "stream",
     "text": [
      "Epoch 1 | Train: 0.7759 | Val: 0.2801 | Patience: 0/3\n",
      "Epoch 2 | Train: 0.2603 | Val: 0.2504 | Patience: 0/3\n",
      "Epoch 3 | Train: 0.2453 | Val: 0.2409 | Patience: 0/3\n",
      "Epoch 4 | Train: 0.2375 | Val: 0.2355 | Patience: 0/3\n",
      "Epoch 5 | Train: 0.2330 | Val: 0.2326 | Patience: 0/3\n",
      "Epoch 6 | Train: 0.2307 | Val: 0.2311 | Patience: 0/3\n",
      "Epoch 7 | Train: 0.2292 | Val: 0.2299 | Patience: 0/3\n",
      "Epoch 8 | Train: 0.2283 | Val: 0.2288 | Patience: 0/3\n",
      "Epoch 9 | Train: 0.2274 | Val: 0.2284 | Patience: 0/3\n",
      "Epoch 10 | Train: 0.2269 | Val: 0.2276 | Patience: 0/3\n",
      "Epoch 11 | Train: 0.2263 | Val: 0.2276 | Patience: 0/3\n",
      "Epoch 12 | Train: 0.2258 | Val: 0.2268 | Patience: 0/3\n",
      "Epoch 13 | Train: 0.2256 | Val: 0.2265 | Patience: 0/3\n",
      "Epoch 14 | Train: 0.2252 | Val: 0.2262 | Patience: 0/3\n",
      "Epoch 15 | Train: 0.2250 | Val: 0.2261 | Patience: 0/3\n",
      "Epoch 16 | Train: 0.2247 | Val: 0.2257 | Patience: 0/3\n",
      "Epoch 17 | Train: 0.2245 | Val: 0.2255 | Patience: 0/3\n",
      "Epoch 18 | Train: 0.2243 | Val: 0.2254 | Patience: 0/3\n",
      "Epoch 19 | Train: 0.2241 | Val: 0.2253 | Patience: 0/3\n",
      "Epoch 20 | Train: 0.2239 | Val: 0.2250 | Patience: 0/3\n",
      "Epoch 21 | Train: 0.2238 | Val: 0.2251 | Patience: 1/3\n",
      "Epoch 22 | Train: 0.2236 | Val: 0.2255 | Patience: 2/3\n",
      "Epoch 23 | Train: 0.2235 | Val: 0.2249 | Patience: 0/3\n",
      "Epoch 24 | Train: 0.2234 | Val: 0.2246 | Patience: 0/3\n",
      "Epoch 25 | Train: 0.2233 | Val: 0.2246 | Patience: 1/3\n",
      "Epoch 26 | Train: 0.2232 | Val: 0.2243 | Patience: 0/3\n",
      "Epoch 27 | Train: 0.2231 | Val: 0.2244 | Patience: 1/3\n",
      "Epoch 28 | Train: 0.2230 | Val: 0.2242 | Patience: 0/3\n",
      "Epoch 29 | Train: 0.2229 | Val: 0.2241 | Patience: 0/3\n",
      "Epoch 30 | Train: 0.2229 | Val: 0.2240 | Patience: 0/3\n",
      "Epoch 31 | Train: 0.2228 | Val: 0.2244 | Patience: 1/3\n",
      "Epoch 32 | Train: 0.2227 | Val: 0.2239 | Patience: 0/3\n",
      "Epoch 33 | Train: 0.2227 | Val: 0.2240 | Patience: 1/3\n",
      "Epoch 34 | Train: 0.2226 | Val: 0.2238 | Patience: 0/3\n",
      "Epoch 35 | Train: 0.2226 | Val: 0.2237 | Patience: 0/3\n",
      "Epoch 36 | Train: 0.2225 | Val: 0.2238 | Patience: 1/3\n",
      "Epoch 37 | Train: 0.2225 | Val: 0.2241 | Patience: 2/3\n",
      "Epoch 38 | Train: 0.2224 | Val: 0.2235 | Patience: 0/3\n",
      "Epoch 39 | Train: 0.2224 | Val: 0.2236 | Patience: 1/3\n",
      "Epoch 40 | Train: 0.2223 | Val: 0.2244 | Patience: 2/3\n",
      "Early stopping at epoch 40\n"
     ]
    }
   ],
   "source": [
    "# Model configuration\n",
    "model = nnl.Sequential([\n",
    "    nnl.Linear(13, 64),\n",
    "    nnl.ReLU(),\n",
    "    nnl.Linear(64, 64),\n",
    "    nnl.ReLU(),\n",
    "    nnl.Linear(64, 64),\n",
    "    nnl.ReLU(),\n",
    "    nnl.Linear(64, 1)\n",
    "])\n",
    "loss = nnl.MseLoss()\n",
    "\n",
    "# Training parameters\n",
    "learning_rate = 0.001\n",
    "batch_size = 256\n",
    "n_epochs = 200\n",
    "patience = 3\n",
    "best_val_loss = np.inf\n",
    "patience_counter = 0\n",
    "train_losses, val_losses = [], []\n",
    "best_model_weights = None\n",
    "\n",
    "# Training loop with early stopping\n",
    "for epoch in range(n_epochs):\n",
    "    # Shuffle training data\n",
    "    shuffled_idx = np.random.permutation(X_train.shape[0])\n",
    "    X_shuffled = X_train[shuffled_idx]\n",
    "    y_shuffled = y_train[shuffled_idx]\n",
    "    epoch_losses = []\n",
    "\n",
    "    # loop through data in batches\n",
    "    for step in range(0, X_shuffled.shape[0], batch_size):\n",
    "        end_idx = step + batch_size\n",
    "        X_batch = X_shuffled[step:end_idx]\n",
    "        y_batch = y_shuffled[step:end_idx]\n",
    "        \n",
    "        # Forward pass\n",
    "        y_pred = model.forward(X_batch)\n",
    "        batch_loss = loss.forward(y_pred, y_batch)\n",
    "\n",
    "        # Backward pass\n",
    "        grad = loss.backward()\n",
    "        model.backward(grad)\n",
    "        \n",
    "        # Update weights\n",
    "        for layer in model.layers:\n",
    "            if isinstance(layer, nnl.Linear):\n",
    "                layer.weights -= learning_rate * layer.grad_weights\n",
    "                layer.bias -= learning_rate * layer.grad_bias\n",
    "\n",
    "        epoch_losses.append(batch_loss)\n",
    "    \n",
    "    # Validation\n",
    "    val_pred = model.forward(X_val)\n",
    "    val_loss = loss.forward(val_pred, y_val)\n",
    "    val_losses.append(val_loss)\n",
    "\n",
    "    # Early stopping check added rounding since the loss is not always decreasing \n",
    "    # and doesn't change loss very much during testing stops training must faster\n",
    "    # if not training takes a long time around 60ish epochs for roughly the same result\n",
    "    if val_loss < best_val_loss: #round(val_loss, 3) < round(best_val_loss, 3):\n",
    "        best_val_loss = val_loss\n",
    "        patience_counter = 0\n",
    "        model.save(r'Models\\model1.npz')\n",
    "    else:\n",
    "        patience_counter += 1\n",
    "\n",
    "    avg_train_loss = np.mean(epoch_losses)\n",
    "    train_losses.append(avg_train_loss)\n",
    "    val_losses.append(val_loss)  \n",
    "\n",
    "    if patience_counter >= patience:\n",
    "        print(f'Early stopping at epoch {epoch}')\n",
    "        break\n",
    "    \n",
    "    print(f\"Epoch {epoch+1} | Train: {avg_train_loss:.4f} | Val: {val_loss:.4f} | Patience: {patience_counter}/{patience}\")\n"
   ]
  },
  {
   "cell_type": "code",
   "execution_count": 4,
   "metadata": {},
   "outputs": [
    {
     "name": "stdout",
     "output_type": "stream",
     "text": [
      "\n",
      "Test RMSLE: 0.4760\n"
     ]
    }
   ],
   "source": [
    "# Test the model after training\n",
    "test_pred = np.expm1(model.forward(X_test).flatten())\n",
    "rmsle = np.sqrt(np.mean((np.log1p(y_test) - np.log1p(test_pred))**2))\n",
    "print(f\"\\nTest RMSLE: {rmsle:.4f}\")"
   ]
  },
  {
   "cell_type": "code",
   "execution_count": 5,
   "metadata": {},
   "outputs": [
    {
     "data": {
      "image/png": "[encoded data removed]",
      "text/plain": [
       "<Figure size 1000x600 with 1 Axes>"
      ]
     },
     "metadata": {},
     "output_type": "display_data"
    }
   ],
   "source": [
    "# Plot training history\n",
    "plt.figure(figsize=(10, 6))\n",
    "plt.plot(train_losses, label='Train Loss')\n",
    "plt.plot(val_losses, label='Validation Loss')\n",
    "plt.xlabel('Epoch')\n",
    "plt.ylabel('MSE Loss')\n",
    "plt.title('Training Curve')\n",
    "plt.legend()\n",
    "plt.savefig(r'Plots\\model1_training_curve.png')\n",
    "plt.show()\n"
   ]
  },
  {
   "cell_type": "markdown",
   "metadata": {},
   "source": [
    "# Load Model 1 Weights"
   ]
  },
  {
   "cell_type": "code",
   "execution_count": 6,
   "metadata": {},
   "outputs": [
    {
     "name": "stdout",
     "output_type": "stream",
     "text": [
      "Weights loaded from Models\\model1.npz\n",
      "\n",
      "Test RMSLE: 0.4759\n"
     ]
    }
   ],
   "source": [
    "# load model 1 for quick testing\n",
    "model1 = nnl.Sequential([\n",
    "    nnl.Linear(11, 64),\n",
    "    nnl.ReLU(),\n",
    "    nnl.Linear(64, 64),\n",
    "    nnl.ReLU(),\n",
    "    nnl.Linear(64, 64),\n",
    "    nnl.ReLU(),\n",
    "    nnl.Linear(64, 1)\n",
    "])\n",
    "\n",
    "model1.load(r'Models\\model1.npz')\n",
    "\n",
    "test_pred = np.expm1(model1.forward(X_test).flatten())\n",
    "rmsle = np.sqrt(np.mean((np.log1p(y_test) - np.log1p(test_pred))**2))\n",
    "print(f\"\\nTest RMSLE: {rmsle:.4f}\")"
   ]
  }
 ],
 "metadata": {
  "kernelspec": {
   "display_name": "ml-environment",
   "language": "python",
   "name": "python3"
  },
  "language_info": {
   "codemirror_mode": {
    "name": "ipython",
    "version": 3
   },
   "file_extension": ".py",
   "mimetype": "text/x-python",
   "name": "python",
   "nbconvert_exporter": "python",
   "pygments_lexer": "ipython3",
   "version": "3.12.8"
  }
 },
 "nbformat": 4,
 "nbformat_minor": 2
}
